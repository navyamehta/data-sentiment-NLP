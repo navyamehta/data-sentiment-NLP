{
 "cells": [
  {
   "cell_type": "code",
   "execution_count": null,
   "metadata": {},
   "outputs": [],
   "source": [
    "from attention import AttentionLayer\n",
    "import pandas as pd\n",
    "import numpy as np\n",
    "import scipy as sp\n",
    "import re\n",
    "from bs4 import BeautifulSoup\n",
    "import tensorflow as tf\n",
    "from tensorflow.keras.layers import LSTM, TimeDistributed, Dense, Bidirectional, Input, Embedding, Dropout\n",
    "from tensorflow.keras.models import Model\n",
    "import os\n",
    "import collections\n",
    "import matplotlib.pyplot as plt\n",
    "import seaborn as sns\n",
    "import nltk.stem\n",
    "from nltk.corpus import stopwords"
   ]
  },
  {
   "cell_type": "code",
   "execution_count": null,
   "metadata": {},
   "outputs": [],
   "source": [
    "lstmdim = 500\n",
    "tf.keras.backend.clear_session()\n",
    "#Encoding Segment\n",
    "textinput = Input(shape=(MAX_TEXT_LEN,))\n",
    "textembed = Embedding(len(texttoken.word_index)+1, lstmdim, trainable=True, mask_zero=True)(textinput)\n",
    "encout1, _, _, _, _ = Bidirectional(LSTM(lstmdim, return_sequences=True, return_state=True))(textembed)\n",
    "encout1 = Dropout(0.1)(encout1)\n",
    "_, enc_h, enc_c = LSTM(lstmdim, return_sequences=True, return_state=True)(encout1)\n",
    "#Decoding Segment\n",
    "summinput = Input(shape=(None,))\n",
    "decembed_layer = Embedding(len(summtoken.word_index)+1, lstmdim, trainable=True)\n",
    "summembed = decembed_layer(summinput)\n",
    "declstm_layer = LSTM(lstmdim, return_sequences=True, return_state=True)\n",
    "decout, _, _ = declstm_layer(summembed, initial_state=[enc_h, enc_c])\n",
    "decdense_layer = Dense(len(summtoken.word_index)+1, activation=\"softmax\")\n",
    "preds = decdense_layer(decout)\n",
    "mdl = Model(inputs=[textinput, summinput], outputs=preds)\n",
    "mdl.compile(optimizer=\"adam\", loss=\"sparse_categorical_crossentropy\")\n",
    "mdl.summary()"
   ]
  },
  {
   "cell_type": "code",
   "execution_count": null,
   "metadata": {},
   "outputs": [],
   "source": [
    "check = tf.keras.callbacks.ModelCheckpoint(\"newsbbcseq2seq.h5\", save_best_only=True, monitor=\"val_loss\", verbose=True)\n",
    "hist = mdl.fit([trainX, trainY[:,:-1]], trainY.reshape(trainY.shape[0], trainY.shape[1], 1)[:,1:], epochs=10, callbacks=[check],\n",
    "               batch_size=16, verbose=True,\n",
    "               validation_data=([testX, testY[:,:-1]], testY.reshape(testY.shape[0], testY.shape[1], 1)[:,1:]))"
   ]
  },
  {
   "cell_type": "code",
   "execution_count": null,
   "metadata": {},
   "outputs": [],
   "source": [
    "#Run-Time Model Graphs\n",
    "encode_model = Model(inputs=textinput, outputs=[enc_h, enc_c])\n",
    "dec_h = Input(shape=(lstmdim,))\n",
    "dec_c = Input(shape=(lstmdim,))\n",
    "decinput = Input(shape=(None,))\n",
    "decembed = decembed_layer(decinput)\n",
    "output, new_h, new_c = declstm_layer(decembed, initial_state=[dec_h, dec_c])\n",
    "output = decdense_layer(output)\n",
    "decode_model = Model(inputs=[decinput, dec_h, dec_c], outputs=[output, new_h, new_c])"
   ]
  },
  {
   "cell_type": "code",
   "execution_count": null,
   "metadata": {},
   "outputs": [],
   "source": []
  },
  {
   "cell_type": "code",
   "execution_count": null,
   "metadata": {},
   "outputs": [],
   "source": []
  },
  {
   "cell_type": "code",
   "execution_count": null,
   "metadata": {},
   "outputs": [],
   "source": []
  },
  {
   "cell_type": "code",
   "execution_count": null,
   "metadata": {},
   "outputs": [],
   "source": []
  }
 ],
 "metadata": {
  "kernelspec": {
   "display_name": "Python 3",
   "language": "python",
   "name": "python3"
  },
  "language_info": {
   "codemirror_mode": {
    "name": "ipython",
    "version": 3
   },
   "file_extension": ".py",
   "mimetype": "text/x-python",
   "name": "python",
   "nbconvert_exporter": "python",
   "pygments_lexer": "ipython3",
   "version": "3.6.8"
  }
 },
 "nbformat": 4,
 "nbformat_minor": 2
}
