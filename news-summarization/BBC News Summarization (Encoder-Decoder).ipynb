{
 "cells": [
  {
   "cell_type": "code",
   "execution_count": 63,
   "metadata": {},
   "outputs": [
    {
     "name": "stderr",
     "output_type": "stream",
     "text": [
      "Using TensorFlow backend.\n"
     ]
    }
   ],
   "source": [
    "from attention import AttentionLayer\n",
    "import pandas as pd\n",
    "import numpy as np\n",
    "import scipy as sp\n",
    "import re\n",
    "from bs4 import BeautifulSoup\n",
    "import tensorflow as tf\n",
    "import keras.backend as K\n",
    "from tensorflow.keras.layers import LSTM, TimeDistributed, Dense, Bidirectional, Input, Embedding, Concatenate\n",
    "from tensorflow.keras.models import Model\n",
    "import os\n",
    "import collections\n",
    "import matplotlib.pyplot as plt\n",
    "import seaborn as sns"
   ]
  },
  {
   "cell_type": "markdown",
   "metadata": {},
   "source": [
    "<h2> Data Preprocessing </h2>"
   ]
  },
  {
   "cell_type": "code",
   "execution_count": 17,
   "metadata": {},
   "outputs": [],
   "source": [
    "indices = collections.deque()\n",
    "for path, dirs, files in os.walk(\"data\"):\n",
    "    if len(dirs)==0:\n",
    "        stem = path.split(\"/\")[-1]+\"/\"\n",
    "        for file in files:\n",
    "            indices.append(stem+file)\n",
    "newsdf = pd.DataFrame(index=np.unique(indices), columns=[\"Text\", \"Summary\", \"Category\"])"
   ]
  },
  {
   "cell_type": "code",
   "execution_count": 18,
   "metadata": {},
   "outputs": [],
   "source": [
    "newsdf.Category = np.vectorize(lambda s: s.split(\"/\")[0])(newsdf.index.values)\n",
    "for path, dirs, files in os.walk(\"data\"):\n",
    "    if len(dirs)==0:\n",
    "        stem = path.split(\"/\")[-1]+\"/\"\n",
    "        col = \"Text\" if \"articles\" in path else \"Summary\"\n",
    "        for file in files:\n",
    "            newsdf.loc[stem+file, col] = open(path+\"/\"+file, \"rb\").read()"
   ]
  },
  {
   "cell_type": "code",
   "execution_count": 19,
   "metadata": {},
   "outputs": [],
   "source": [
    "def bytedecoder(string):\n",
    "    try:\n",
    "        string = string.decode('utf-8')\n",
    "        return string\n",
    "    except:\n",
    "        return np.nan\n",
    "for col in ['Text', 'Summary']:\n",
    "    newsdf[col] = newsdf[col].apply(bytedecoder)\n",
    "newsdf.dropna(how=\"any\", inplace=True)\n",
    "newsdf.drop_duplicates(inplace=True)"
   ]
  },
  {
   "cell_type": "code",
   "execution_count": 26,
   "metadata": {},
   "outputs": [],
   "source": [
    "def cleaner(s):\n",
    "    s = re.sub(\"\\n\",\" \", re.sub(\"[?.,<>@#\\'\\\"]\",\"\", s))\n",
    "    return BeautifulSoup(s, \"lxml\").text.lower()\n",
    "for col in ['Text', 'Summary']:\n",
    "    newsdf[col] = newsdf[col].apply(cleaner)\n",
    "newsdf['Summary'] = \"<START> \"+newsdf['Summary']+\" <END>\""
   ]
  },
  {
   "cell_type": "code",
   "execution_count": 39,
   "metadata": {},
   "outputs": [
    {
     "data": {
      "image/png": "[encoded data removed]",
      "text/plain": [
       "<Figure size 720x360 with 2 Axes>"
      ]
     },
     "metadata": {
      "needs_background": "light"
     },
     "output_type": "display_data"
    }
   ],
   "source": [
    "plt.figure(figsize=(10,5))\n",
    "for col, plot in [('Text', 1), ('Summary', 2)]:\n",
    "    plt.subplot(1,2,plot)\n",
    "    lengths = newsdf[col].apply(lambda s: len(s.split()))\n",
    "    plt.hist(lengths, bins=50, density=True)\n",
    "    quants = lengths.quantile([0.25,0.75])\n",
    "    plt.axvline(np.maximum(np.min(lengths), quants[0.25]-1.5*quants.diff().values[-1]), color=\"black\", alpha=0.75)\n",
    "    plt.axvline(quants[0.75]+1.5*quants.diff().values[-1], color=\"black\", alpha=0.75)\n",
    "    plt.xlabel(\"Length\")\n",
    "    plt.ylabel(\"Density\")\n",
    "    plt.title(col)"
   ]
  },
  {
   "cell_type": "code",
   "execution_count": 41,
   "metadata": {},
   "outputs": [],
   "source": [
    "#Set maximum lengths at 1000 for text and 500 for summary, and remove any exceeding entries\n",
    "MAX_TEXT_LEN = 1000\n",
    "MAX_SUMMARY_LEN = 500\n",
    "newsdf.drop(newsdf[(newsdf['Text'].apply(lambda s: len(s.split()))>MAX_TEXT_LEN)|(newsdf['Summary'].apply(\n",
    "    lambda s: len(s.split()))>MAX_SUMMARY_LEN)].index, inplace=True)"
   ]
  },
  {
   "cell_type": "code",
   "execution_count": 47,
   "metadata": {},
   "outputs": [],
   "source": [
    "token = keras.preprocessing.text.Tokenizer()\n",
    "alltext = newsdf['Text'].append(newsdf['Summary']).values\n",
    "token.fit_on_texts(alltext)\n",
    "texts = token.texts_to_sequences(newsdf['Text'])\n",
    "summs = token.texts_to_sequences(newsdf['Summary'])\n",
    "texts = keras.preprocessing.sequence.pad_sequences(texts, maxlen=MAX_TEXT_LEN, padding=\"post\")\n",
    "summs = keras.preprocessing.sequence.pad_sequences(summs, maxlen=MAX_SUMMARY_LEN, padding=\"post\")"
   ]
  },
  {
   "cell_type": "code",
   "execution_count": 57,
   "metadata": {},
   "outputs": [
    {
     "data": {
      "text/plain": [
       "((1682, 1000), (1682, 500), (420, 1000), (420, 500))"
      ]
     },
     "execution_count": 57,
     "metadata": {},
     "output_type": "execute_result"
    }
   ],
   "source": [
    "np.random.seed(1)\n",
    "testindices = np.random.choice(np.arange(texts.shape[0]), np.int(0.2*texts.shape[0]), replace=False)\n",
    "trainindices = np.unique(list(set(np.arange(texts.shape[0]))-set(testindices)))\n",
    "trainX, testX = texts[trainindices], texts[testindices]\n",
    "trainY, testY = summs[trainindices], summs[testindices]\n",
    "trainX.shape, trainY.shape, testX.shape, testY.shape"
   ]
  },
  {
   "cell_type": "markdown",
   "metadata": {},
   "source": [
    "<h2> Model Design </h2>"
   ]
  },
  {
   "cell_type": "code",
   "execution_count": 66,
   "metadata": {},
   "outputs": [
    {
     "name": "stdout",
     "output_type": "stream",
     "text": [
      "Model: \"model\"\n",
      "__________________________________________________________________________________________________\n",
      "Layer (type)                    Output Shape         Param #     Connected to                     \n",
      "==================================================================================================\n",
      "input_1 (InputLayer)            [(None, 1000)]       0                                            \n",
      "__________________________________________________________________________________________________\n",
      "embedding (Embedding)           (None, 1000, 500)    21126000    input_1[0][0]                    \n",
      "__________________________________________________________________________________________________\n",
      "lstm (LSTM)                     [(None, 1000, 500),  2002000     embedding[0][0]                  \n",
      "__________________________________________________________________________________________________\n",
      "input_2 (InputLayer)            [(None, None)]       0                                            \n",
      "__________________________________________________________________________________________________\n",
      "lstm_1 (LSTM)                   [(None, 1000, 500),  2002000     lstm[0][0]                       \n",
      "__________________________________________________________________________________________________\n",
      "embedding_1 (Embedding)         (None, None, 500)    21126000    input_2[0][0]                    \n",
      "__________________________________________________________________________________________________\n",
      "lstm_2 (LSTM)                   [(None, 1000, 500),  2002000     lstm_1[0][0]                     \n",
      "__________________________________________________________________________________________________\n",
      "lstm_3 (LSTM)                   [(None, None, 500),  2002000     embedding_1[0][0]                \n",
      "                                                                 lstm_2[0][1]                     \n",
      "                                                                 lstm_2[0][2]                     \n",
      "__________________________________________________________________________________________________\n",
      "attention (AttentionLayer)      ((None, None, 500),  500500      lstm_2[0][0]                     \n",
      "                                                                 lstm_3[0][0]                     \n",
      "__________________________________________________________________________________________________\n",
      "concat (Concatenate)            (None, None, 1000)   0           lstm_3[0][0]                     \n",
      "                                                                 attention[0][0]                  \n",
      "__________________________________________________________________________________________________\n",
      "time_distributed (TimeDistribut (None, None, 42252)  42294252    concat[0][0]                     \n",
      "==================================================================================================\n",
      "Total params: 93,054,752\n",
      "Trainable params: 93,054,752\n",
      "Non-trainable params: 0\n",
      "__________________________________________________________________________________________________\n"
     ]
    }
   ],
   "source": [
    "lstmdim = 500\n",
    "keras.backend.clear_session()\n",
    "#Encoder\n",
    "textinput = Input(shape=(MAX_TEXT_LEN,))\n",
    "textembed = Embedding(len(token.word_index)+1, lstmdim, trainable=True)(textinput)\n",
    "encout1, _, _ = LSTM(lstmdim, return_sequences=True, return_state=True)(textembed)\n",
    "encout2, _, _ = LSTM(lstmdim, return_sequences=True, return_state=True)(encout1)\n",
    "encout3, enc_h, enc_c = LSTM(lstmdim, return_sequences=True, return_state=True)(encout2)\n",
    "#Decoder\n",
    "summinput = Input(shape=(None,))\n",
    "summembed = Embedding(len(token.word_index)+1, lstmdim, trainable=True)(summinput)\n",
    "decout, _, _ = LSTM(lstmdim, return_sequences=True, return_state=True)(summembed, initial_state=[enc_h, enc_c])\n",
    "#Attention Consolidation\n",
    "attnout, _ = AttentionLayer(name=\"attention\")([encout3, decout])\n",
    "concat = Concatenate(axis=-1, name=\"concat\")([decout, attnout])\n",
    "preds = TimeDistributed(Dense(len(token.word_index)+1, activation=\"softmax\"))(concat)\n",
    "mdl = Model(inputs=[textinput, summinput], outputs=preds)\n",
    "mdl.compile(optimizer=\"adam\", loss=\"sparse_categorical_crossentropy\")\n",
    "mdl.summary()"
   ]
  },
  {
   "cell_type": "code",
   "execution_count": null,
   "metadata": {},
   "outputs": [
    {
     "name": "stdout",
     "output_type": "stream",
     "text": [
      "Train on 1682 samples, validate on 420 samples\n",
      "Epoch 1/20\n"
     ]
    }
   ],
   "source": [
    "check = tf.keras.callbacks.ModelCheckpoint(\"./data/newsseq2seq.h5\", save_best_only=True, \n",
    "                                           monitor=\"val_loss\", freq=\"epoch\")\n",
    "hist = mdl.fit([trainX, trainY[:,:-1]], trainY.reshape(trainY.shape[0], trainY.shape[1], 1)[:,1:], epochs=20, \n",
    "               callbacks=[check], batch_size=512, verbose=True, \n",
    "               validation_data=([testX, testY[:,:-1]], testY.reshape(testY.shape[0], testY.shape[1], 1)[:,1:]))"
   ]
  },
  {
   "cell_type": "code",
   "execution_count": null,
   "metadata": {},
   "outputs": [],
   "source": []
  }
 ],
 "metadata": {
  "kernelspec": {
   "display_name": "Python 3",
   "language": "python",
   "name": "python3"
  },
  "language_info": {
   "codemirror_mode": {
    "name": "ipython",
    "version": 3
   },
   "file_extension": ".py",
   "mimetype": "text/x-python",
   "name": "python",
   "nbconvert_exporter": "python",
   "pygments_lexer": "ipython3",
   "version": "3.6.8"
  }
 },
 "nbformat": 4,
 "nbformat_minor": 2
}
