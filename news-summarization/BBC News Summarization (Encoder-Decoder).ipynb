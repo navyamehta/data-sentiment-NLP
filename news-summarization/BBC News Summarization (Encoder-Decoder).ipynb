{
 "cells": [
  {
   "cell_type": "code",
   "execution_count": 1,
   "metadata": {},
   "outputs": [],
   "source": [
    "from attention import AttentionLayer\n",
    "import pandas as pd\n",
    "import numpy as np\n",
    "import scipy as sp\n",
    "import re\n",
    "from bs4 import BeautifulSoup\n",
    "import tensorflow as tf\n",
    "from tensorflow.keras.layers import LSTM, TimeDistributed, Dense, Bidirectional, Input, Embedding, Dropout\n",
    "from tensorflow.keras.models import Model\n",
    "import os\n",
    "import collections\n",
    "import matplotlib.pyplot as plt\n",
    "import seaborn as sns\n",
    "import nltk.stem"
   ]
  },
  {
   "cell_type": "markdown",
   "metadata": {},
   "source": [
    "<h2> Data Preprocessing </h2>"
   ]
  },
  {
   "cell_type": "code",
   "execution_count": 2,
   "metadata": {},
   "outputs": [],
   "source": [
    "indices = collections.deque()\n",
    "for path, dirs, files in os.walk(\"data\"):\n",
    "    if len(dirs)==0:\n",
    "        stem = path.split(\"/\")[-1]+\"/\"\n",
    "        for file in files:\n",
    "            indices.append(stem+file)\n",
    "newsdf = pd.DataFrame(index=np.unique(indices), columns=[\"Text\", \"Summary\", \"Category\"])"
   ]
  },
  {
   "cell_type": "code",
   "execution_count": 3,
   "metadata": {},
   "outputs": [],
   "source": [
    "newsdf.Category = np.vectorize(lambda s: s.split(\"/\")[0])(newsdf.index.values)\n",
    "for path, dirs, files in os.walk(\"data\"):\n",
    "    if len(dirs)==0:\n",
    "        stem = path.split(\"/\")[-1]+\"/\"\n",
    "        col = \"Text\" if \"articles\" in path else \"Summary\"\n",
    "        for file in files:\n",
    "            newsdf.loc[stem+file, col] = open(path+\"/\"+file, \"rb\").read()"
   ]
  },
  {
   "cell_type": "code",
   "execution_count": 4,
   "metadata": {},
   "outputs": [],
   "source": [
    "def bytedecoder(string):\n",
    "    try:\n",
    "        string = string.decode('utf-8')\n",
    "        return string\n",
    "    except:\n",
    "        return np.nan\n",
    "for col in ['Text', 'Summary']:\n",
    "    newsdf[col] = newsdf[col].apply(bytedecoder)\n",
    "newsdf.dropna(how=\"any\", inplace=True)\n",
    "newsdf.drop_duplicates(inplace=True)"
   ]
  },
  {
   "cell_type": "code",
   "execution_count": 5,
   "metadata": {},
   "outputs": [],
   "source": [
    "def cleaner(s):\n",
    "    s = re.sub(\"\\n\",\" \", re.sub(\"[,<>@#\\'\\\")(]\",\"\", s))\n",
    "    s = re.sub(\"\\.\",\" \\. \",re.sub(\"\\?\", \" \\? \",re.sub(\"-\",\" - \", s)))\n",
    "    #NLTK Stemming to Reduce Domain Vocabulary Size\n",
    "    s = \" \".join(np.vectorize(lambda s: s if len(s)<=3 else nltk.stem.WordNetLemmatizer().lemmatize(s))\n",
    "                 (np.array(s.split())))\n",
    "    return BeautifulSoup(s, \"lxml\").text.lower()\n",
    "for col in ['Text', 'Summary']:\n",
    "    newsdf[col] = newsdf[col].apply(cleaner)\n",
    "newsdf['Summary'] = \"_START \"+newsdf['Summary']"
   ]
  },
  {
   "cell_type": "code",
   "execution_count": 6,
   "metadata": {},
   "outputs": [
    {
     "data": {
      "image/png": "[encoded data removed]",
      "text/plain": [
       "<Figure size 720x360 with 2 Axes>"
      ]
     },
     "metadata": {
      "needs_background": "light"
     },
     "output_type": "display_data"
    }
   ],
   "source": [
    "plt.figure(figsize=(10,5))\n",
    "for col, plot in [('Text', 1), ('Summary', 2)]:\n",
    "    plt.subplot(1,2,plot)\n",
    "    lengths = newsdf[col].apply(lambda s: len(s.split()))\n",
    "    plt.hist(lengths, bins=50, density=True)\n",
    "    quants = lengths.quantile([0.25,0.75])\n",
    "    plt.axvline(np.maximum(np.min(lengths), quants[0.25]-1.5*quants.diff().values[-1]), color=\"black\", alpha=0.75)\n",
    "    plt.axvline(quants[0.75]+1.5*quants.diff().values[-1], color=\"black\", alpha=0.75)\n",
    "    plt.xlabel(\"Length\")\n",
    "    plt.ylabel(\"Density\")\n",
    "    plt.title(col)"
   ]
  },
  {
   "cell_type": "code",
   "execution_count": 7,
   "metadata": {},
   "outputs": [],
   "source": [
    "#Set maximum lengths at 1000 for text and 500 for summary, and remove any exceeding entries\n",
    "MAX_TEXT_LEN = 800\n",
    "MAX_SUMMARY_LEN = 400\n",
    "newsdf.drop(newsdf[(newsdf['Text'].apply(lambda s: len(s.split()))>MAX_TEXT_LEN)|(newsdf['Summary'].apply(\n",
    "    lambda s: len(s.split()))>MAX_SUMMARY_LEN)].index, inplace=True)"
   ]
  },
  {
   "cell_type": "code",
   "execution_count": 8,
   "metadata": {},
   "outputs": [],
   "source": [
    "def padtokens(series):\n",
    "    token = tf.keras.preprocessing.text.Tokenizer()\n",
    "    token.fit_on_texts(series)\n",
    "    words = token.texts_to_sequences(series)\n",
    "    words = tf.keras.preprocessing.sequence.pad_sequences(words, maxlen=MAX_TEXT_LEN, padding=\"post\")\n",
    "    return words, token\n",
    "texts, texttoken = padtokens(newsdf['Text'])\n",
    "summs, summtoken = padtokens(newsdf['Summary'])"
   ]
  },
  {
   "cell_type": "code",
   "execution_count": 9,
   "metadata": {},
   "outputs": [
    {
     "data": {
      "text/plain": [
       "((1622, 800), (1622, 800), (405, 800), (405, 800))"
      ]
     },
     "execution_count": 9,
     "metadata": {},
     "output_type": "execute_result"
    }
   ],
   "source": [
    "np.random.seed(1)\n",
    "testindices = np.random.choice(np.arange(texts.shape[0]), np.int(0.2*texts.shape[0]), replace=False)\n",
    "trainindices = np.unique(list(set(np.arange(texts.shape[0]))-set(testindices)))\n",
    "trainX, testX = texts[trainindices], texts[testindices]\n",
    "trainY, testY = summs[trainindices], summs[testindices]\n",
    "trainX.shape, trainY.shape, testX.shape, testY.shape"
   ]
  },
  {
   "cell_type": "markdown",
   "metadata": {},
   "source": [
    "<h2> Model Design </h2>"
   ]
  },
  {
   "cell_type": "code",
   "execution_count": 10,
   "metadata": {},
   "outputs": [
    {
     "name": "stdout",
     "output_type": "stream",
     "text": [
      "Model: \"model\"\n",
      "__________________________________________________________________________________________________\n",
      "Layer (type)                    Output Shape         Param #     Connected to                     \n",
      "==================================================================================================\n",
      "input_1 (InputLayer)            [(None, 800)]        0                                            \n",
      "__________________________________________________________________________________________________\n",
      "embedding (Embedding)           (None, 800, 500)     13643000    input_1[0][0]                    \n",
      "__________________________________________________________________________________________________\n",
      "bidirectional (Bidirectional)   [(None, 800, 1000),  4004000     embedding[0][0]                  \n",
      "__________________________________________________________________________________________________\n",
      "input_2 (InputLayer)            [(None, None)]       0                                            \n",
      "__________________________________________________________________________________________________\n",
      "dropout (Dropout)               (None, 800, 1000)    0           bidirectional[0][0]              \n",
      "__________________________________________________________________________________________________\n",
      "embedding_1 (Embedding)         (None, None, 500)    9327000     input_2[0][0]                    \n",
      "__________________________________________________________________________________________________\n",
      "lstm_1 (LSTM)                   [(None, 800, 500), ( 3002000     dropout[0][0]                    \n",
      "__________________________________________________________________________________________________\n",
      "lstm_2 (LSTM)                   [(None, None, 500),  2002000     embedding_1[0][0]                \n",
      "                                                                 lstm_1[0][1]                     \n",
      "                                                                 lstm_1[0][2]                     \n",
      "__________________________________________________________________________________________________\n",
      "dense (Dense)                   (None, None, 18654)  9345654     lstm_2[0][0]                     \n",
      "==================================================================================================\n",
      "Total params: 41,323,654\n",
      "Trainable params: 41,323,654\n",
      "Non-trainable params: 0\n",
      "__________________________________________________________________________________________________\n"
     ]
    }
   ],
   "source": [
    "lstmdim = 500\n",
    "tf.keras.backend.clear_session()\n",
    "#Encoding Segment\n",
    "textinput = Input(shape=(MAX_TEXT_LEN,))\n",
    "textembed = Embedding(len(texttoken.word_index)+1, lstmdim, trainable=True, mask_zero=True)(textinput)\n",
    "encout1, _, _, _, _ = Bidirectional(LSTM(lstmdim, return_sequences=True, return_state=True))(textembed)\n",
    "encout1 = Dropout(0.1)(encout1)\n",
    "_, enc_h, enc_c = LSTM(lstmdim, return_sequences=True, return_state=True)(encout1)\n",
    "#Decoding Segment\n",
    "summinput = Input(shape=(None,))\n",
    "decembed_layer = Embedding(len(summtoken.word_index)+1, lstmdim, trainable=True)\n",
    "summembed = decembed_layer(summinput)\n",
    "declstm_layer = LSTM(lstmdim, return_sequences=True, return_state=True)\n",
    "decout, _, _ = declstm_layer(summembed, initial_state=[enc_h, enc_c])\n",
    "decdense_layer = Dense(len(summtoken.word_index)+1, activation=\"softmax\")\n",
    "preds = decdense_layer(decout)\n",
    "mdl = Model(inputs=[textinput, summinput], outputs=preds)\n",
    "mdl.compile(optimizer=\"adam\", loss=\"sparse_categorical_crossentropy\")\n",
    "mdl.summary()"
   ]
  },
  {
   "cell_type": "code",
   "execution_count": null,
   "metadata": {},
   "outputs": [
    {
     "name": "stdout",
     "output_type": "stream",
     "text": [
      "Train on 1682 samples, validate on 420 samples\n",
      "Epoch 1/20\n"
     ]
    }
   ],
   "source": [
    "check = tf.keras.callbacks.ModelCheckpoint(\"newsbbcseq2seq.h5\", save_best_only=True, monitor=\"val_loss\", verbose=True)\n",
    "hist = mdl.fit([trainX, trainY[:,:-1]], trainY.reshape(trainY.shape[0], trainY.shape[1], 1)[:,1:], epochs=10, callbacks=[check],\n",
    "               batch_size=16, verbose=True,\n",
    "               validation_data=([testX, testY[:,:-1]], testY.reshape(testY.shape[0], testY.shape[1], 1)[:,1:]))"
   ]
  },
  {
   "cell_type": "code",
   "execution_count": null,
   "metadata": {},
   "outputs": [],
   "source": [
    "#Run-Time Model Graphs\n",
    "encode_model = Model(inputs=textinput, outputs=[enc_h, enc_c])\n",
    "dec_h = Input(shape=(lstmdim,))\n",
    "dec_c = Input(shape=(lstmdim,))\n",
    "decinput = Input(shape=(None,))\n",
    "decembed = decembed_layer(decinput)\n",
    "output, new_h, new_c = declstm_layer(decembed, initial_state=[dec_h, dec_c])\n",
    "output = decdense_layer(output)\n",
    "decode_model = Model(inputs=[decinput, dec_h, dec_c], outputs=[output, new_h, new_c])"
   ]
  },
  {
   "cell_type": "code",
   "execution_count": null,
   "metadata": {},
   "outputs": [],
   "source": []
  }
 ],
 "metadata": {
  "kernelspec": {
   "display_name": "Python 3",
   "language": "python",
   "name": "python3"
  },
  "language_info": {
   "codemirror_mode": {
    "name": "ipython",
    "version": 3
   },
   "file_extension": ".py",
   "mimetype": "text/x-python",
   "name": "python",
   "nbconvert_exporter": "python",
   "pygments_lexer": "ipython3",
   "version": "3.6.8"
  }
 },
 "nbformat": 4,
 "nbformat_minor": 2
}
