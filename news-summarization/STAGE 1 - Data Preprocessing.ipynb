{
 "cells": [
  {
   "cell_type": "code",
   "execution_count": 1,
   "metadata": {},
   "outputs": [],
   "source": [
    "import pandas as pd\n",
    "import numpy as np\n",
    "import scipy as sp\n",
    "import re\n",
    "from bs4 import BeautifulSoup\n",
    "import tensorflow as tf\n",
    "from tensorflow.keras.layers import LSTM, TimeDistributed, Dense, Bidirectional, Input, Embedding, Dropout\n",
    "from tensorflow.keras.models import Model\n",
    "import os\n",
    "import collections\n",
    "import matplotlib.pyplot as plt\n",
    "import seaborn as sns\n",
    "import nltk.stem\n",
    "from nltk.corpus import stopwords"
   ]
  },
  {
   "cell_type": "code",
   "execution_count": 2,
   "metadata": {},
   "outputs": [],
   "source": [
    "indices = collections.deque()\n",
    "for path, dirs, files in os.walk(\"data\"):\n",
    "    if len(dirs)==0:\n",
    "        stem = path.split(\"/\")[-1]+\"/\"\n",
    "        for file in files:\n",
    "            indices.append(stem+file)\n",
    "newsdf = pd.DataFrame(index=np.unique(indices), columns=[\"Text\", \"Summary\", \"Category\"])"
   ]
  },
  {
   "cell_type": "code",
   "execution_count": 3,
   "metadata": {},
   "outputs": [],
   "source": [
    "newsdf.Category = np.vectorize(lambda s: s.split(\"/\")[0])(newsdf.index.values)\n",
    "for path, dirs, files in os.walk(\"data\"):\n",
    "    if len(dirs)==0:\n",
    "        stem = path.split(\"/\")[-1]+\"/\"\n",
    "        col = \"Text\" if \"articles\" in path else \"Summary\"\n",
    "        for file in files:\n",
    "            newsdf.loc[stem+file, col] = open(path+\"/\"+file, \"rb\").read()"
   ]
  },
  {
   "cell_type": "code",
   "execution_count": 4,
   "metadata": {},
   "outputs": [],
   "source": [
    "def bytedecoder(string):\n",
    "    try:\n",
    "        string = string.decode('utf-8')\n",
    "        return string\n",
    "    except:\n",
    "        return np.nan\n",
    "for col in ['Text', 'Summary']:\n",
    "    newsdf[col] = newsdf[col].apply(bytedecoder)\n",
    "newsdf.dropna(how=\"any\", inplace=True)\n",
    "newsdf.drop_duplicates(inplace=True)"
   ]
  },
  {
   "cell_type": "code",
   "execution_count": 5,
   "metadata": {},
   "outputs": [],
   "source": [
    "STOP_WORD_SET = set(word for word in stopwords.words(\"english\") if len(word)<=5)\n",
    "STOP_WORD_SET-=set([\"not\",\"none\",\"never\",\"can't\",\"no\",\"nor\"])\n",
    "def cleaner(s, rem_stop_words=False):\n",
    "    s = re.sub(\"\\n\",\" \", re.sub(\"[,<>@#\\'\\\")(]\",\"\", s))\n",
    "    s = re.sub(\"\\?\", \" ? \",re.sub(\"-\",\" - \", s))\n",
    "    #NLTK Stemming to Reduce Domain Vocabulary Size\n",
    "    s = \" \".join(np.vectorize(lambda s: s if len(s)<=3 else nltk.stem.WordNetLemmatizer().lemmatize(s))\n",
    "                 (np.array(s.split())))\n",
    "    if  rem_stop_words:\n",
    "        s = \" \".join([word for word in s.split() if word not in STOP_WORD_SET])\n",
    "    return BeautifulSoup(s, \"lxml\").text.lower()\n",
    "for col in ['Text', 'Summary']:\n",
    "    newsdf[col] = newsdf[col].apply(lambda s: cleaner(s, True))\n",
    "newsdf['Summary'] = \"_START \"+newsdf['Summary']"
   ]
  },
  {
   "cell_type": "code",
   "execution_count": 6,
   "metadata": {},
   "outputs": [
    {
     "data": {
      "image/png": "[encoded data removed]",
      "text/plain": [
       "<Figure size 720x360 with 2 Axes>"
      ]
     },
     "metadata": {
      "needs_background": "light"
     },
     "output_type": "display_data"
    }
   ],
   "source": [
    "plt.figure(figsize=(10,5))\n",
    "for col, plot in [('Text', 1), ('Summary', 2)]:\n",
    "    plt.subplot(1,2,plot)\n",
    "    lengths = newsdf[col].apply(lambda s: len(s.split()))\n",
    "    plt.hist(lengths, bins=50, density=True)\n",
    "    quants = lengths.quantile([0.25,0.75])\n",
    "    plt.axvline(np.maximum(np.min(lengths), quants[0.25]-1.5*quants.diff().values[-1]), color=\"black\", alpha=0.75)\n",
    "    plt.axvline(quants[0.75]+1.5*quants.diff().values[-1], color=\"black\", alpha=0.75)\n",
    "    plt.xlabel(\"Length\")\n",
    "    plt.ylabel(\"Density\")\n",
    "    plt.title(col)"
   ]
  },
  {
   "cell_type": "code",
   "execution_count": 7,
   "metadata": {},
   "outputs": [],
   "source": [
    "#Set maximum lengths at 500 for text and 200 for summary, and remove any exceeding entries\n",
    "MAX_TEXT_LEN = 500\n",
    "MAX_SUMMARY_LEN = 200\n",
    "newsdf.drop(newsdf[(newsdf['Text'].apply(lambda s: len(s.split()))>MAX_TEXT_LEN)|(newsdf['Summary'].apply(\n",
    "    lambda s: len(s.split()))>MAX_SUMMARY_LEN)].index, inplace=True)"
   ]
  },
  {
   "cell_type": "code",
   "execution_count": 10,
   "metadata": {},
   "outputs": [],
   "source": [
    "def padtokens(series, pad, length):\n",
    "    token = tf.keras.preprocessing.text.Tokenizer()\n",
    "    token.fit_on_texts(series)\n",
    "    words = token.texts_to_sequences(series)\n",
    "    words = tf.keras.preprocessing.sequence.pad_sequences(words, maxlen=length, padding=pad)\n",
    "    return words, token\n",
    "texts, texttoken = padtokens(newsdf['Text'], \"pre\", MAX_TEXT_LEN)\n",
    "summs, summtoken = padtokens(newsdf['Summary'], \"post\", MAX_SUMMARY_LEN)"
   ]
  },
  {
   "cell_type": "code",
   "execution_count": 11,
   "metadata": {},
   "outputs": [
    {
     "data": {
      "text/plain": [
       "((1616, 500), (1616, 200), (403, 500), (403, 200))"
      ]
     },
     "execution_count": 11,
     "metadata": {},
     "output_type": "execute_result"
    }
   ],
   "source": [
    "np.random.seed(1)\n",
    "testindices = np.random.choice(np.arange(texts.shape[0]), np.int(0.2*texts.shape[0]), replace=False)\n",
    "trainindices = np.unique(list(set(np.arange(texts.shape[0]))-set(testindices)))\n",
    "trainX, testX = texts[trainindices], texts[testindices]\n",
    "trainY, testY = summs[trainindices], summs[testindices]\n",
    "trainX.shape, trainY.shape, testX.shape, testY.shape"
   ]
  },
  {
   "cell_type": "code",
   "execution_count": 13,
   "metadata": {},
   "outputs": [],
   "source": [
    "#Save processed output\n",
    "np.savez_compressed(\"./data/modeldata\", trainX=trainX, trainY=trainY, testX=testX, testY=testY)\n",
    "newsdf.to_csv(\"./data/cleannewsdata.csv\")"
   ]
  },
  {
   "cell_type": "code",
   "execution_count": null,
   "metadata": {},
   "outputs": [],
   "source": []
  }
 ],
 "metadata": {
  "kernelspec": {
   "display_name": "Python 3",
   "language": "python",
   "name": "python3"
  },
  "language_info": {
   "codemirror_mode": {
    "name": "ipython",
    "version": 3
   },
   "file_extension": ".py",
   "mimetype": "text/x-python",
   "name": "python",
   "nbconvert_exporter": "python",
   "pygments_lexer": "ipython3",
   "version": "3.6.8"
  }
 },
 "nbformat": 4,
 "nbformat_minor": 2
}
