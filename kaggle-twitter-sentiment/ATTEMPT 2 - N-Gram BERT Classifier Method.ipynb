{
 "cells": [
  {
   "cell_type": "markdown",
   "metadata": {},
   "source": [
    "<p> The details of the Kaggle contest in question are at https://www.kaggle.com/c/tweet-sentiment-extraction/overview. In this notebook, we attempt to pre-process input datasets to prepare them for NLP modelling. Input tweet sequences are cleaned and tokenized, and then wrapped in a BERT embedding for contextual awareness. Output text sequences are merely tokenized on an external library given the need to preserve sentence phrases. A local BERT client is used to generate the datasets. To run BERT locally, <br\\><br/>\n",
    "<i>\n",
    "pip install bert-serving-server <br/>\n",
    "pip install bert-serving-client <br/>\n",
    "wget https://storage.googleapis.com/bert_models/2018_10_18/uncased_L-12_H-768_A-12.zip && unzip uncased_L-12_H-768_A-12.zip\n",
    "<br/>\n",
    "bert-serving-start -model_dir uncased_L-12_H-768_A-12/ -num_worker=2 -max_seq_len 100\n",
    "</i>\n",
    "<p>\n",
    "    \n",
    "Since we know that the selected_text is a continuous textual segment, we attempt a different design architecture, where all possible n-grams of a text are evaluated to predict the sentiment, and the most likely n-gram is the one that most clearly encapsulates the sentiment in question."
   ]
  },
  {
   "cell_type": "code",
   "execution_count": 1,
   "metadata": {},
   "outputs": [],
   "source": [
    "import pandas as pd\n",
    "import numpy as np\n",
    "import scipy as sp\n",
    "from bert_serving.client import BertClient\n",
    "import sklearn.metrics\n",
    "import sklearn.preprocessing\n",
    "import matplotlib.pyplot as plt\n",
    "import seaborn as sns\n",
    "import re\n",
    "import pickle\n",
    "import nltk.probability"
   ]
  },
  {
   "cell_type": "code",
   "execution_count": 2,
   "metadata": {},
   "outputs": [],
   "source": [
    "data = pd.read_csv(\"./data/train.csv\")\n",
    "testdata = pd.read_csv(\"./data/test.csv\")\n",
    "data.dropna(how=\"any\", inplace=True)"
   ]
  },
  {
   "cell_type": "code",
   "execution_count": 3,
   "metadata": {},
   "outputs": [],
   "source": [
    "def cleaner(sent):\n",
    "    #Two tokens (WEBSITE, VULGAR) are created and punctuation is spaced out\n",
    "    sent = \" \".join(np.vectorize(lambda s:\"WEBSITE\" if \"http\" in s else s)(np.array(sent.split())))\n",
    "    sent = re.sub(\"[!.?:;,`]\", \" \", sent)\n",
    "    return re.sub(re.compile('(?:\\*){2,}'),\"VULGAR\",sent).lower()\n",
    "for col in ['text','selected_text']:\n",
    "    data[col] = data[col].apply(lambda s: cleaner(s))\n",
    "testdata['text'] = testdata['text'].apply(lambda s: cleaner(s))\n",
    "data = data.loc[data.text.apply(lambda s: len(s))!=1]"
   ]
  },
  {
   "cell_type": "code",
   "execution_count": null,
   "metadata": {},
   "outputs": [
    {
     "data": {
      "image/png": "[encoded data removed]",
      "text/plain": [
       "<Figure size 432x288 with 1 Axes>"
      ]
     },
     "metadata": {
      "needs_background": "light"
     },
     "output_type": "display_data"
    }
   ],
   "source": [
    "#NEUTRAL SELECTION RATIO\n",
    "subset = data.loc[data.sentiment==\"neutral\", ['selected_text', 'text']].applymap(lambda s: len(s.split()))\n",
    "plt.hist(subset['selected_text']/subset['text'], bins=50, density=True);"
   ]
  },
  {
   "cell_type": "markdown",
   "metadata": {},
   "source": [
    "Thus, our neutral label selection algorithm will be naive, passing the entire text as the selected_text since the approach holds for over 92% of input data. We shall now use all possible continuous n-grams from each input text and run a BERT embedding to build two separate models - positive side and negative side. For each side, the prediction quantity is the Jacardian similarity with the actual selected-text. For each tweet, the selected subtext will be the one with the highest predicted similarity."
   ]
  },
  {
   "cell_type": "code",
   "execution_count": null,
   "metadata": {},
   "outputs": [],
   "source": [
    "def X(text):\n",
    "    ngrams, text = [], text.split()\n",
    "    for i in range(len(text)):\n",
    "        for j in range(i, len(text)):\n",
    "            ngrams.append(\" \".join(text[i:j+1]))\n",
    "    return np.array(ngrams)\n",
    "def Y(ngrams, subset):\n",
    "    def jaccard(str1, str2):\n",
    "        a, b = set(str1.lower().split()), set(str2.lower().split())\n",
    "        c = a.intersection(b)\n",
    "        return float(len(c)) / (len(a) + len(b) - len(c))\n",
    "    return np.vectorize(lambda s: jaccard(s, subset))(np.array(ngrams))"
   ]
  },
  {
   "cell_type": "code",
   "execution_count": null,
   "metadata": {},
   "outputs": [],
   "source": [
    "#POSITIVE SENTIMENT\n",
    "sentdata = data.loc[data.sentiment==\"positive\", [\"text\", \"selected_text\"]].reset_index(drop=True)\n",
    "lengths = sentdata['text'].apply(lambda s: np.sum(np.arange(len(s.split())+1)))\n",
    "trainX = np.zeros((lengths.sum(),), dtype=np.dtype('U150'))\n",
    "trainY = np.zeros((lengths.sum(),), dtype=np.float64)\n",
    "i=0\n",
    "for index, content in sentdata.iterrows():\n",
    "    ngrams = X(content['text'])\n",
    "    trainX[i:i+len(ngrams)] = ngrams\n",
    "    trainY[i:i+len(ngrams)] = Y(ngrams, content['selected_text'])\n",
    "    i+=len(ngrams)\n",
    "#We shall run BERT Client in groups of 20,000 to not overwhelm limited computational resources\n",
    "group=20000\n",
    "bc = BertClient()\n",
    "for i in np.arange(0,len(trainX), group)[:2]:\n",
    "    bertX = bc.encode(list(trainX[i:i+group]))\n",
    "    pickle.dump(bertX, open(\"./data/positivetrainX/X\"+str(i)+\".pkl\", \"wb\"))"
   ]
  },
  {
   "cell_type": "code",
   "execution_count": null,
   "metadata": {},
   "outputs": [],
   "source": []
  }
 ],
 "metadata": {
  "kernelspec": {
   "display_name": "Python 3",
   "language": "python",
   "name": "python3"
  },
  "language_info": {
   "codemirror_mode": {
    "name": "ipython",
    "version": 3
   },
   "file_extension": ".py",
   "mimetype": "text/x-python",
   "name": "python",
   "nbconvert_exporter": "python",
   "pygments_lexer": "ipython3",
   "version": "3.6.8"
  }
 },
 "nbformat": 4,
 "nbformat_minor": 2
}
