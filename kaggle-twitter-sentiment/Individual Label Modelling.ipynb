{
 "cells": [
  {
   "cell_type": "code",
   "execution_count": 1,
   "metadata": {},
   "outputs": [],
   "source": [
    "import pandas as pd\n",
    "import numpy as np\n",
    "import scipy as sp\n",
    "import tensorflow as tf\n",
    "import tensorflow.keras as keras\n",
    "from tensorflow.keras.models import Sequential, load_model\n",
    "from tensorflow.keras.layers import Dense, Dropout, GRU, LSTM, Conv1D, MaxPooling1D, RNN, Bidirectional\n",
    "import pickle\n",
    "import gc\n",
    "import sklearn.metrics\n",
    "import sklearn.preprocessing\n",
    "from sklearn.model_selection import GridSearchCV, RandomizedSearchCV"
   ]
  },
  {
   "cell_type": "markdown",
   "metadata": {},
   "source": [
    "<h2> Positive Label Models </h2>"
   ]
  },
  {
   "cell_type": "code",
   "execution_count": 2,
   "metadata": {},
   "outputs": [],
   "source": [
    "postrainX = pickle.load(open(\"./data/positivetrainX.pkl\", \"rb\"))\n",
    "postrainY = pickle.load(open(\"./data/positivetrainY.pkl\", \"rb\"))\n",
    "postestX = pickle.load(open(\"./data/positivetestX.pkl\", \"rb\"))\n",
    "tokenizer = pickle.load(open(\"./data/tokenvocab.pkl\", \"rb\"))"
   ]
  },
  {
   "cell_type": "code",
   "execution_count": 5,
   "metadata": {},
   "outputs": [],
   "source": [
    "#Dense ANN\n",
    "def dense_mdl(nunits=200, l2reg=0.05, drp=0.05, activation=\"relu\", layers=1):\n",
    "    model = Sequential()\n",
    "    for _ in range(len(layers)):\n",
    "        model.add(Dense(nunits, input_shape=postrainX.shape[1], kernel_regularizer=keras.regularizers.l2(l2reg),\n",
    "                        bias_regularizer=keras.regularizers.l2(l2reg), activation=activation))\n",
    "    model.add(Dropout(drp))\n",
    "    model.add(Dense(postrainY.shape[1], kernel_regularizer=keras.regularizers.l2(l2reg),\n",
    "                    bias_regularizer=keras.regularizers.l2(l2reg), activation=activation))\n",
    "    model.compile(optimizer=keras.optimizers.Adam(learning_rate=5e-4), loss=\"mean_squared_error\")\n",
    "    return model"
   ]
  },
  {
   "cell_type": "code",
   "execution_count": 6,
   "metadata": {},
   "outputs": [],
   "source": [
    "nnparams = {\"l2reg\":sp.stats.uniform(loc=0, scale=0.3), \"drp\":sp.stats.uniform(loc=0, scale=0.3), \"layers\":[1],\n",
    "             \"nunits\":np.arange(100,300,5), \"activation\":[\"relu\", \"tanh\", \"selu\", keras.activations.LeakyReLU()]}\n",
    "mdl = KerasRegresso"
   ]
  },
  {
   "cell_type": "code",
   "execution_count": null,
   "metadata": {},
   "outputs": [],
   "source": []
  },
  {
   "cell_type": "code",
   "execution_count": null,
   "metadata": {},
   "outputs": [],
   "source": []
  },
  {
   "cell_type": "code",
   "execution_count": null,
   "metadata": {},
   "outputs": [],
   "source": []
  },
  {
   "cell_type": "code",
   "execution_count": null,
   "metadata": {},
   "outputs": [],
   "source": []
  },
  {
   "cell_type": "code",
   "execution_count": null,
   "metadata": {},
   "outputs": [],
   "source": []
  },
  {
   "cell_type": "code",
   "execution_count": null,
   "metadata": {},
   "outputs": [],
   "source": []
  },
  {
   "cell_type": "code",
   "execution_count": null,
   "metadata": {},
   "outputs": [],
   "source": []
  },
  {
   "cell_type": "code",
   "execution_count": null,
   "metadata": {},
   "outputs": [],
   "source": []
  },
  {
   "cell_type": "code",
   "execution_count": null,
   "metadata": {},
   "outputs": [],
   "source": [
    "#Attempt Jaccard score as the loss function"
   ]
  }
 ],
 "metadata": {
  "kernelspec": {
   "display_name": "Python 3",
   "language": "python",
   "name": "python3"
  },
  "language_info": {
   "codemirror_mode": {
    "name": "ipython",
    "version": 3
   },
   "file_extension": ".py",
   "mimetype": "text/x-python",
   "name": "python",
   "nbconvert_exporter": "python",
   "pygments_lexer": "ipython3",
   "version": "3.6.8"
  }
 },
 "nbformat": 4,
 "nbformat_minor": 2
}
