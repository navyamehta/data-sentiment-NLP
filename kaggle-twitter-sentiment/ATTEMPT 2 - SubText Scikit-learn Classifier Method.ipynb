{
 "cells": [
  {
   "cell_type": "markdown",
   "metadata": {},
   "source": [
    "<p> The details of the Kaggle contest in question are at https://www.kaggle.com/c/tweet-sentiment-extraction/overview. In this notebook, we attempt to pre-process input datasets to prepare them for NLP modelling. Input tweet sequences are cleaned and tokenized, and then wrapped in a BERT embedding for contextual awareness. Output text sequences are merely tokenized on an external library given the need to preserve sentence phrases. A local BERT client is used to generate the datasets. To run BERT locally, <br\\><br/>\n",
    "<i>\n",
    "pip install bert-serving-server <br/>\n",
    "pip install bert-serving-client <br/>\n",
    "wget https://storage.googleapis.com/bert_models/2018_10_18/uncased_L-12_H-768_A-12.zip && unzip uncased_L-12_H-768_A-12.zip\n",
    "<br/>\n",
    "bert-serving-start -model_dir uncased_L-12_H-768_A-12/ -num_worker=2 -max_seq_len 100\n",
    "</i>\n",
    "<p>\n",
    "    \n",
    "Since we know that the selected_text is a continuous textual segment, we attempt a different design architecture, where all possible n-grams of a text are evaluated to predict the sentiment, and the most likely n-gram is the one that most clearly encapsulates the sentiment in question."
   ]
  },
  {
   "cell_type": "code",
   "execution_count": 1,
   "metadata": {},
   "outputs": [],
   "source": [
    "import pandas as pd\n",
    "import numpy as np\n",
    "import scipy as sp\n",
    "from bert_serving.client import BertClient\n",
    "import sklearn.metrics\n",
    "import sklearn.preprocessing\n",
    "import matplotlib.pyplot as plt\n",
    "import seaborn as sns\n",
    "import re\n",
    "import pickle\n",
    "import nltk.probability\n",
    "from sklearn.svm import OneClassSVM\n",
    "from sklearn.linear_model import LogisticRegression\n",
    "from sklearn.model_selection import GridSearchCV, RandomizedSearchCV\n",
    "from sklearn.ensemble import RandomForestClassifier\n",
    "from xgboost import XGBClassifier\n",
    "import tensorflow as tf\n",
    "import tensorflow.keras as keras\n",
    "from tensorflow.keras.layers import Dense, LSTM, Conv1D, MaxPooling1D, Dropout\n",
    "from tensorflow.keras.models import Sequential, load_model"
   ]
  },
  {
   "cell_type": "code",
   "execution_count": 2,
   "metadata": {},
   "outputs": [],
   "source": [
    "data = pd.read_csv(\"./data/train.csv\")\n",
    "testdata = pd.read_csv(\"./data/test.csv\")\n",
    "data.dropna(how=\"any\", inplace=True)"
   ]
  },
  {
   "cell_type": "code",
   "execution_count": 3,
   "metadata": {},
   "outputs": [],
   "source": [
    "def cleaner(sent):\n",
    "    #Two tokens (WEBSITE, VULGAR) are created and punctuation is spaced out\n",
    "    sent = \" \".join(np.vectorize(lambda s:\"WEBSITE\" if \"http\" in s else s)(np.array(sent.split())))\n",
    "    sent = re.sub(\"[!.?:;,`]\", \" \", sent)\n",
    "    return re.sub(re.compile('(?:\\*){2,}'),\"VULGAR\",sent).lower()\n",
    "for col in ['text','selected_text']:\n",
    "    data[col] = data[col].apply(lambda s: cleaner(s))\n",
    "testdata['text'] = testdata['text'].apply(lambda s: cleaner(s))\n",
    "data = data.loc[data.text.apply(lambda s: len(s))!=1]"
   ]
  },
  {
   "cell_type": "code",
   "execution_count": 4,
   "metadata": {},
   "outputs": [
    {
     "data": {
      "image/png": "[encoded data removed]",
      "text/plain": [
       "<Figure size 432x288 with 1 Axes>"
      ]
     },
     "metadata": {
      "needs_background": "light"
     },
     "output_type": "display_data"
    }
   ],
   "source": [
    "#NEUTRAL SELECTION RATIO\n",
    "subset = data.loc[data.sentiment==\"neutral\", ['selected_text', 'text']].applymap(lambda s: len(s.split()))\n",
    "plt.hist(subset['selected_text']/subset['text'], bins=50, density=True);"
   ]
  },
  {
   "cell_type": "markdown",
   "metadata": {},
   "source": [
    "Thus, our neutral label selection algorithm will be naive, passing the entire text as the selected_text since the approach holds for over 92% of input data. We now attempt two classes of BERT Classifiers - one's a single-class classifier for each of the positive and negative selected_texts, and the other is a binary classification. On prediction, each n-gram of a tweet is run against the relevant classifier and the most likely subset is returned."
   ]
  },
  {
   "cell_type": "code",
   "execution_count": 5,
   "metadata": {},
   "outputs": [
    {
     "name": "stdout",
     "output_type": "stream",
     "text": [
      "Entering Sentiment positive\n",
      "Entering Sentiment negative\n"
     ]
    }
   ],
   "source": [
    "for sent in [\"positive\",\"negative\"]:\n",
    "    print(\"Entering Sentiment \"+sent)\n",
    "    #BERT-encode training set\n",
    "    bc = BertClient()\n",
    "    trainX = bc.encode(data.loc[data.sentiment==sent, \"selected_text\"].to_list())\n",
    "    #Save data artifacts for modelling pipeline\n",
    "    pickle.dump(trainX, open(\"./data/\"+sent+\"trainX.pkl\", \"wb\"))"
   ]
  },
  {
   "cell_type": "markdown",
   "metadata": {},
   "source": [
    "<h2> Binary-Class Classifier </h2>"
   ]
  },
  {
   "cell_type": "code",
   "execution_count": 5,
   "metadata": {},
   "outputs": [],
   "source": [
    "postrainX = pickle.load(open(\"./data/positivetrainX.pkl\", \"rb\"))\n",
    "negtrainX = pickle.load(open(\"./data/negativetrainX.pkl\", \"rb\"))\n",
    "trainX = np.concatenate([postrainX, negtrainX])\n",
    "trainY = pd.Series(np.ones(len(postrainX))).append(pd.Series(np.zeros(len(negtrainX))))"
   ]
  },
  {
   "cell_type": "code",
   "execution_count": 6,
   "metadata": {},
   "outputs": [],
   "source": [
    "index = np.random.choice(len(trainX),len(trainX), replace=False)\n",
    "trainX = trainX[index]\n",
    "trainY = trainY.iloc[index].values"
   ]
  },
  {
   "cell_type": "code",
   "execution_count": null,
   "metadata": {},
   "outputs": [],
   "source": [
    "#Logistic Regression\n",
    "lgparams = {'C':sp.stats.uniform(loc=1e-4, scale=1e4), 'solver':['saga'], 'random_state':[1], \n",
    "            'l1_ratio':sp.stats.uniform(), 'max_iter':[1000]}\n",
    "mdl = LogisticRegression(penalty=\"elasticnet\", class_weight=\"balanced\", random_state=1)\n",
    "lgmdl = RandomizedSearchCV(mdl, lgparams, n_iter=100, cv=3, verbose=999, refit=\"neg_log_loss\",\n",
    "                           scoring=['neg_brier_score','neg_log_loss','roc_auc'], n_jobs=4, random_state=1)\n",
    "lgmdl.fit(trainX, trainY)\n",
    "pickle.dump(lgmdl, open('./data/logreg.pkl', 'wb'))"
   ]
  },
  {
   "cell_type": "code",
   "execution_count": 10,
   "metadata": {},
   "outputs": [
    {
     "name": "stderr",
     "output_type": "stream",
     "text": [
      "/anaconda3/lib/python3.6/site-packages/sklearn/linear_model/_sag.py:330: ConvergenceWarning: The max_iter was reached which means the coef_ did not converge\n",
      "  \"the coef_ did not converge\", ConvergenceWarning)\n",
      "/anaconda3/lib/python3.6/site-packages/sklearn/linear_model/_sag.py:330: ConvergenceWarning: The max_iter was reached which means the coef_ did not converge\n",
      "  \"the coef_ did not converge\", ConvergenceWarning)\n",
      "/anaconda3/lib/python3.6/site-packages/sklearn/linear_model/_sag.py:330: ConvergenceWarning: The max_iter was reached which means the coef_ did not converge\n",
      "  \"the coef_ did not converge\", ConvergenceWarning)\n"
     ]
    },
    {
     "data": {
      "image/png": "[encoded data removed]",
      "text/plain": [
       "<Figure size 864x360 with 3 Axes>"
      ]
     },
     "metadata": {
      "needs_background": "light"
     },
     "output_type": "display_data"
    }
   ],
   "source": [
    "#Performance over the splits\n",
    "lgmdl = pickle.load(open(\"./data/logreg.pkl\", \"rb\"))\n",
    "import copy\n",
    "testsplits = np.array_split(np.arange(len(postrainX)),3)\n",
    "trainsplits = [np.sort(list(set(np.arange(len(postrainX)))-set(test))) for test in testsplits]\n",
    "cv = [(trainsplits[i],testsplits[i]) for i in range(3)]\n",
    "plt.figure(figsize=(12,5))\n",
    "for i in range(len(cv)):\n",
    "    plt.subplot(1,3,i+1)\n",
    "    mdl = copy.deepcopy(lgmdl.best_estimator_)\n",
    "    mdl.fit(trainX[cv[i][0]], trainY[cv[i][0]])\n",
    "    fpr1, tpr1, _ = sklearn.metrics.roc_curve(trainY[cv[i][0]], mdl.predict_proba(trainX[cv[i][0]])[:,1])\n",
    "    fpr2, tpr2, _ = sklearn.metrics.roc_curve(trainY[cv[i][1]], mdl.predict_proba(trainX[cv[i][1]])[:,1])\n",
    "    plt.scatter(fpr1, tpr1)\n",
    "    plt.scatter(fpr2, tpr2)"
   ]
  },
  {
   "cell_type": "code",
   "execution_count": null,
   "metadata": {},
   "outputs": [],
   "source": []
  },
  {
   "cell_type": "code",
   "execution_count": 50,
   "metadata": {},
   "outputs": [],
   "source": [
    "#Random Forest Classifier\n",
    "rfparams = {'n_estimators':[200], 'criterion':['gini', 'entropy'], 'max_depth':np.arange(10)+1, \n",
    "           'min_samples_split':[2,3,4,5,6], 'min_samples_leaf':[2,3,4,5,6], \n",
    "            'max_features':sp.stats.uniform(loc=0.5, scale=0.5), \n",
    "            'class_weight':['balanced', 'balanced_subsample']}\n",
    "mdl = RandomForestClassifier(random_state=1)\n",
    "rfmdl = model_selection.RandomizedSearchCV(mdl, rfparams, n_iter=100, cv=3, verbose=2, refit=\"neg_log_loss\",\n",
    "                           scoring=['brier_score_loss', 'neg_log_loss', 'roc_auc'], n_jobs=2, random_state=1)\n",
    "rfmdl.fit(trainX_bert, trainY);\n",
    "valid_visual(rfmdl)\n",
    "pickle.dump(rfmdl, open('./data/bert-rfmdl.pkl', 'wb'))"
   ]
  },
  {
   "cell_type": "code",
   "execution_count": 51,
   "metadata": {},
   "outputs": [],
   "source": [
    "#XGB Classifier"
   ]
  },
  {
   "cell_type": "code",
   "execution_count": 52,
   "metadata": {},
   "outputs": [],
   "source": [
    "#ANN\n",
    "def build_mdr(nunits=60, l2reg=1e-3, drp=0.1):\n",
    "    model = Sequential()\n",
    "    model.add(Dense(nunits, activation=activ, kernel_regularizer=tf.keras.regularizers.l2(l2reg),\n",
    "                   bias_regularizer=tf.keras.regularizers.l2(l2reg)))\n",
    "    model.add(Dropout(drp))\n",
    "    model.add(Dense(1, activation=\"sigmoid\"))\n",
    "    model.compile(optimizer=tf.keras.optimizers.Adam(learning_rate=5e-4), loss='binary_crossentropy')\n",
    "    return model\n"
   ]
  },
  {
   "cell_type": "code",
   "execution_count": 43,
   "metadata": {},
   "outputs": [
    {
     "data": {
      "text/plain": [
       "0.16666666666666666"
      ]
     },
     "execution_count": 43,
     "metadata": {},
     "output_type": "execute_result"
    }
   ],
   "source": [
    "def jaccard(str1, str2):\n",
    "    a, b = set(str1.lower().split()), set(str2.lower().split())\n",
    "    c = a.intersection(b)\n",
    "    return float(len(c)) / (len(a) + len(b) - len(c))\n",
    "jaccard(grams[11], grams[16])"
   ]
  },
  {
   "cell_type": "code",
   "execution_count": 17,
   "metadata": {},
   "outputs": [],
   "source": [
    "def X(text):\n",
    "    ngrams, text = [], text.split()\n",
    "    for i in range(len(text)):\n",
    "        for j in range(i, len(text)):\n",
    "            ngrams.append(\" \".join(text[i:j+1]))\n",
    "    return np.array(ngrams)\n",
    "def Y(ngrams, subset):\n",
    "    def jaccard(str1, str2):\n",
    "        a, b = set(str1.lower().split()), set(str2.lower().split())\n",
    "        c = a.intersection(b)\n",
    "        return float(len(c)) / (len(a) + len(b) - len(c))\n",
    "    return np.vectorize(lambda s: jaccard(s, subset))(np.array(ngrams))"
   ]
  },
  {
   "cell_type": "code",
   "execution_count": null,
   "metadata": {},
   "outputs": [],
   "source": []
  }
 ],
 "metadata": {
  "kernelspec": {
   "display_name": "Python 3",
   "language": "python",
   "name": "python3"
  },
  "language_info": {
   "codemirror_mode": {
    "name": "ipython",
    "version": 3
   },
   "file_extension": ".py",
   "mimetype": "text/x-python",
   "name": "python",
   "nbconvert_exporter": "python",
   "pygments_lexer": "ipython3",
   "version": "3.6.8"
  }
 },
 "nbformat": 4,
 "nbformat_minor": 2
}
