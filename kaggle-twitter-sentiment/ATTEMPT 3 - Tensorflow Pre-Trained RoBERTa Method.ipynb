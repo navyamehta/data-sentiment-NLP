{
 "cells": [
  {
   "cell_type": "code",
   "execution_count": 1,
   "metadata": {},
   "outputs": [
    {
     "name": "stdout",
     "output_type": "stream",
     "text": [
      "TF version 2.0.0\n"
     ]
    }
   ],
   "source": [
    "import pandas as pd\n",
    "import numpy as np\n",
    "import tensorflow as tf\n",
    "import tensorflow.keras as keras\n",
    "import re\n",
    "import pickle\n",
    "import gc\n",
    "import nltk\n",
    "from sklearn.model_selection import StratifiedKFold, GridSearchCV, RandomizedSearchCV\n",
    "from transformers import *\n",
    "import tokenizers\n",
    "import matplotlib.pyplot as plt\n",
    "print('TF version',tf.__version__)"
   ]
  },
  {
   "cell_type": "code",
   "execution_count": 2,
   "metadata": {},
   "outputs": [],
   "source": [
    "data = pd.read_csv(\"./data/train.csv\")\n",
    "testdata = pd.read_csv(\"./data/test.csv\")\n",
    "data.dropna(how=\"any\", inplace=True)"
   ]
  },
  {
   "cell_type": "code",
   "execution_count": 3,
   "metadata": {},
   "outputs": [],
   "source": [
    "def cleaner(sent):\n",
    "    #Two tokens (WEBSITE, VULGAR) are created and punctuation is spaced out\n",
    "    sent = \" \".join(np.vectorize(lambda s:\"WEBSITE\" if \"http\" in s else s)(np.array(sent.split())))\n",
    "    sent = re.sub(\"[!.?:;,`]\", \" \", sent)\n",
    "    return re.sub(re.compile('(?:\\*){2,}'),\"VULGAR\",sent).lower()\n",
    "for col in ['text','selected_text']:\n",
    "    data[col] = data[col].apply(lambda s: cleaner(s))\n",
    "testdata['text'] = testdata['text'].apply(lambda s: cleaner(s))\n",
    "data = data.loc[data.text.apply(lambda s: len(s))!=1]"
   ]
  },
  {
   "cell_type": "code",
   "execution_count": 4,
   "metadata": {},
   "outputs": [],
   "source": [
    "PATH = './tf-roberta/'\n",
    "tokenizer = tokenizers.ByteLevelBPETokenizer(\n",
    "    vocab_file=PATH+'vocab-roberta-base.json', \n",
    "    merges_file=PATH+'merges-roberta-base.txt', \n",
    "    lowercase=True,\n",
    "    add_prefix_space=True\n",
    ")\n",
    "sentiment_id = {'positive': 1313, 'negative': 2430, 'neutral': 7974}"
   ]
  },
  {
   "cell_type": "code",
   "execution_count": 5,
   "metadata": {},
   "outputs": [],
   "source": [
    "def validitycheck(s):\n",
    "    target = s.selected_text.split()\n",
    "    source = s.text.split()\n",
    "    for i in range(len(source)):\n",
    "        if (source[i]==target[0]) and (source[i:i+len(target)]==target): return True\n",
    "    return False\n",
    "data = data.loc[data.apply(validitycheck, axis=1)].reset_index(drop=True)"
   ]
  },
  {
   "cell_type": "markdown",
   "metadata": {},
   "source": [
    "<h2> N-Gram Level Subtext Model </h2>"
   ]
  },
  {
   "cell_type": "markdown",
   "metadata": {},
   "source": [
    "We continue with the observations established in ATTEMPT 2 regarding the similarity between \"text\" and \"selected_text\" for neutral sentiments which makes it favorable to merely predict the entire text (at 0.92 accuracy). For positive and negative labels, we attempt classifier and regressor designs to predict subtexts, or predict Jaccardian similarity with subtexts."
   ]
  },
  {
   "cell_type": "markdown",
   "metadata": {},
   "source": [
    "<b> STEP 1: Classifier </b>"
   ]
  },
  {
   "cell_type": "code",
   "execution_count": 6,
   "metadata": {},
   "outputs": [],
   "source": [
    "def X(text):\n",
    "    ngrams, text = [], text.split()\n",
    "    for i in range(len(text)):\n",
    "        for j in range(i, len(text)):\n",
    "            ngrams.append(\" \".join(text[i:j+1]))\n",
    "    return np.array(ngrams)\n",
    "def Y(ngrams, selected_text):\n",
    "    return np.vectorize(lambda s: int(s==selected_text))(np.array(ngrams))"
   ]
  },
  {
   "cell_type": "code",
   "execution_count": 7,
   "metadata": {},
   "outputs": [],
   "source": [
    "length = data.loc[data.sentiment==\"positive\", \"text\"].apply(lambda s: np.sum(np.arange(len(s.split())+1)))\n",
    "trainX = np.zeros(length.sum(), dtype=\"<U150\")\n",
    "trainY = np.zeros(length.sum(), dtype=np.float64)\n",
    "i=0\n",
    "for index, content in data.loc[data.sentiment==\"positive\"].iterrows():\n",
    "    ngrams = X(content.text)\n",
    "    trainX[i:i+len(ngrams)] = ngrams\n",
    "    trainY[i:i+len(ngrams)] =  Y(ngrams, content.selected_text)\n",
    "    i+=len(ngrams)"
   ]
  },
  {
   "cell_type": "code",
   "execution_count": 8,
   "metadata": {},
   "outputs": [
    {
     "data": {
      "image/png": "[encoded data removed]",
      "text/plain": [
       "<Figure size 432x288 with 1 Axes>"
      ]
     },
     "metadata": {
      "needs_background": "light"
     },
     "output_type": "display_data"
    }
   ],
   "source": [
    "pd.Series(trainY).plot(kind=\"hist\", bins=50)\n",
    "plt.show()"
   ]
  },
  {
   "cell_type": "code",
   "execution_count": 9,
   "metadata": {},
   "outputs": [
    {
     "data": {
      "image/png": "[encoded data removed]",
      "text/plain": [
       "<Figure size 432x288 with 1 Axes>"
      ]
     },
     "metadata": {
      "needs_background": "light"
     },
     "output_type": "display_data"
    }
   ],
   "source": [
    "#Undersampling - Create a 5% Sampling Ratio\n",
    "majority, minority = np.where(trainY==0)[0], np.where(trainY==1)[0]\n",
    "kp = np.random.choice(majority, int(0.05*len(majority)), replace=False)\n",
    "trainX = trainX[np.sort(np.append(minority, kp))]\n",
    "trainY = trainY[np.sort(np.append(minority, kp))]\n",
    "pd.Series(trainY).plot(kind=\"hist\", bins=50)\n",
    "plt.show()"
   ]
  },
  {
   "cell_type": "code",
   "execution_count": 10,
   "metadata": {},
   "outputs": [],
   "source": [
    "#Positive Labels\n",
    "MAX_LEN = 100\n",
    "input_ids = np.ones((len(trainX),MAX_LEN),dtype='int32')\n",
    "attention_mask = np.zeros((len(trainX),MAX_LEN),dtype='int32')\n",
    "token_type_ids = np.zeros((len(trainX),MAX_LEN),dtype='int32')\n",
    "\n",
    "for k in range(len(trainX)):\n",
    "    text1 = \" \"+\" \".join(trainX[k].split())\n",
    "    enc = tokenizer.encode(text1)\n",
    "    s_tok = sentiment_id[\"positive\"]\n",
    "    input_ids[k,:len(enc.ids)+5] = [0] + enc.ids + [2,2] + [s_tok] + [2]\n",
    "    attention_mask[k,:len(enc.ids)+5] = 1"
   ]
  },
  {
   "cell_type": "code",
   "execution_count": 12,
   "metadata": {},
   "outputs": [],
   "source": [
    "#Word-Level BERT LSTM ANN\n",
    "def dense_mdl(nunits=100, recdrp=0.05, l2reg=0.05, drp=0.05):\n",
    "    input_ids = tf.keras.layers.Input((MAX_LEN,), dtype=tf.int32)\n",
    "    attention_mask = tf.keras.layers.Input((MAX_LEN,), dtype=tf.int32)\n",
    "    token_type_ids = tf.keras.layers.Input((MAX_LEN,), dtype=tf.int32)\n",
    "    config = RobertaConfig.from_pretrained(PATH+'config-roberta-base.json')\n",
    "    bert_model = TFRobertaModel.from_pretrained(PATH+'pretrained-roberta-base.h5',config=config)\n",
    "    x = bert_model(input_ids, attention_mask=attention_mask, token_type_ids=token_type_ids)\n",
    "    x1 = tf.keras.layers.LSTM(nunits, recdrp=recdrp, kernel_regularizer=tf.keras.regularizers.l2(l2reg),\n",
    "                              bias_regularizer=tf.keras.regularizers.l2(l2reg), return_sequences=False)(x[0])\n",
    "    x1 = tf.keras.layers.Dropout(drp)(x1)\n",
    "    final = tf.keras.layers.Dense(1, activation=\"sigmoid\")(x1)\n",
    "    model = tf.keras.models.Model([input_ids, attention_mask, token_type_ids], final)\n",
    "    model.compile(optimizer=tf.keras.optimizers.Adam(learning_rate=5e-5), loss=\"binary_crossentropy\")\n",
    "    return model"
   ]
  },
  {
   "cell_type": "code",
   "execution_count": null,
   "metadata": {},
   "outputs": [],
   "source": [
    "mdl = dense_mdl()\n",
    "mdl.fit([input_ids, attention_mask, token_type_ids], trainY, epochs=10, batch_size=50, verbose=True,\n",
    "       class_weight={0:1, 1:pd.Series(trainY).value_counts()[0]/pd.Series(trainY).value_counts()[1]})"
   ]
  },
  {
   "cell_type": "code",
   "execution_count": null,
   "metadata": {},
   "outputs": [],
   "source": []
  },
  {
   "cell_type": "markdown",
   "metadata": {},
   "source": [
    "<b>STEP 2: Regressor </b>"
   ]
  },
  {
   "cell_type": "code",
   "execution_count": null,
   "metadata": {},
   "outputs": [],
   "source": [
    "def Y(ngrams, subset):\n",
    "    def jaccard(str1, str2):\n",
    "        a, b = set(str1.lower().split()), set(str2.lower().split())\n",
    "        c = a.intersection(b)\n",
    "        return float(len(c)) / (len(a) + len(b) - len(c))\n",
    "    return np.vectorize(lambda s: jaccard(s, subset))(np.array(ngrams))"
   ]
  },
  {
   "cell_type": "code",
   "execution_count": null,
   "metadata": {},
   "outputs": [],
   "source": [
    "#Sentence-Level BERT Dense ANN with Dual Input\n",
    "def dense_mdl(nunits=100, activation=\"relu\", l2reg=0.05, drp=0.05):\n",
    "    config = RobertaConfig.from_pretrained(PATH+'config-roberta-base.json')\n",
    "    #Phrase analysis\n",
    "    input_ids1 = tf.keras.layers.Input((MAX_LEN,), dtype=tf.int32)\n",
    "    attention_mask1 = tf.keras.layers.Input((MAX_LEN,), dtype=tf.int32)\n",
    "    token_type_ids1 = tf.keras.layers.Input((MAX_LEN,), dtype=tf.int32)\n",
    "    bert_model1 = TFRobertaModel.from_pretrained(PATH+'pretrained-roberta-base.h5',config=config)\n",
    "    x1 = bert_model(input_ids1, attention_mask=attention_mask1, token_type_ids=token_type_ids1)\n",
    "    #Sentence analysis\n",
    "    input_ids2 = tf.keras.layers.Input((MAX_LEN,), dtype=tf.int32)\n",
    "    attention_mask2 = tf.keras.layers.Input((MAX_LEN,), dtype=tf.int32)\n",
    "    token_type_ids2 = tf.keras.layers.Input((MAX_LEN,), dtype=tf.int32)\n",
    "    bert_model2 = TFRobertaModel.from_pretrained(PATH+'pretrained-roberta-base.h5',config=config)\n",
    "    x2 = bert_model2(input_ids2, attention_mask=attention_mask2, token_type_ids=token_type_ids2)\n",
    "    #Combined analysis\n",
    "    x = tf.concat([x1[1],x2[1]], axis=-1)\n",
    "    x = tf.keras.layers.Dense(nunits, activation=activation, kernel_regularizer=tf.keras.regularizers.l2(l2reg),\n",
    "                               bias_regularizer=tf.keras.regularizers.l2(l2reg))(x)\n",
    "    x = tf.keras.layers.Dropout(drp)(x)\n",
    "    final = tf.keras.layers.Dense(1, activation=\"sigmoid\")(x)\n",
    "    model = tf.keras.models.Model([input_ids1, attention_mask1, token_type_ids1, input_ids2, \n",
    "                                   attention_mask2,token_type_ids2], final)\n",
    "    model.compile(optimizer=tf.keras.optimizers.Adam(learning_rate=5e-4), loss=\"mean_squared_error\")\n",
    "    return model"
   ]
  },
  {
   "cell_type": "code",
   "execution_count": null,
   "metadata": {},
   "outputs": [],
   "source": []
  },
  {
   "cell_type": "markdown",
   "metadata": {},
   "source": [
    "<h2> HuggingFace Models </h2>"
   ]
  },
  {
   "cell_type": "code",
   "execution_count": null,
   "metadata": {},
   "outputs": [],
   "source": [
    "#Start-Index and End-Index Dual TFRoberta Model\n",
    "def build_model(drp=0.10, l2reg=0.00, activation=None):\n",
    "    ids = tf.keras.layers.Input((MAX_LEN,), dtype=tf.int32)\n",
    "    att = tf.keras.layers.Input((MAX_LEN,), dtype=tf.int32)\n",
    "    tok = tf.keras.layers.Input((MAX_LEN,), dtype=tf.int32)\n",
    "    config = RobertaConfig.from_pretrained(PATH+'config-roberta-base.json')\n",
    "    bert_model = TFRobertaModel.from_pretrained(PATH+'pretrained-roberta-base.h5',config=config)\n",
    "    x = bert_model(ids,attention_mask=att,token_type_ids=tok)\n",
    "    x1 = tf.keras.layers.Dropout(drp)(x[0])\n",
    "    x1 = tf.keras.layers.Conv1D(1,1, activation=activation, kernel_regularizer=tf.keras.regularizers.l2(l2reg),\n",
    "                               bias_regularizer=tf.keras.regularizers.l2(l2reg))(x1)\n",
    "    x1 = tf.keras.layers.Flatten()(x1)\n",
    "    x1 = tf.keras.layers.Activation('softmax')(x1)\n",
    "    x2 = tf.keras.layers.Dropout(drp)(x[0])\n",
    "    x2 = tf.keras.layers.Conv1D(1,1, activation=activation, kernel_regularizer=tf.keras.regularizers.l2(l2reg),\n",
    "                               bias_regularizer=tf.keras.regularizers.l2(l2reg))(x2)\n",
    "    x2 = tf.keras.layers.Flatten()(x2)\n",
    "    x2 = tf.keras.layers.Activation('softmax')(x2)\n",
    "    model = tf.keras.models.Model(inputs=[ids, att, tok], outputs=[x1,x2])\n",
    "    optimizer = tf.keras.optimizers.Adam(learning_rate=3e-5)\n",
    "    model.compile(loss='categorical_crossentropy', optimizer=optimizer)\n",
    "    return model"
   ]
  },
  {
   "cell_type": "code",
   "execution_count": null,
   "metadata": {},
   "outputs": [],
   "source": [
    "#Small Addendum to leverage Token Classification for Individual Sentences\n",
    "bert_model = TFRobertaForTokenClassification.from_pretrained(PATH+'pretrained-roberta-base.h5',config=config)\n",
    "x = bert_model(ids,attention_mask=att,token_type_ids=tok, training=training)\n",
    "x1 = tf.keras.layers.Flatten()(x[0][:,:,-1])\n",
    "x1 = tf.keras.layers.Activation('softmax')(x1)"
   ]
  },
  {
   "cell_type": "code",
   "execution_count": null,
   "metadata": {},
   "outputs": [],
   "source": []
  }
 ],
 "metadata": {
  "kernelspec": {
   "display_name": "Python 3",
   "language": "python",
   "name": "python3"
  },
  "language_info": {
   "codemirror_mode": {
    "name": "ipython",
    "version": 3
   },
   "file_extension": ".py",
   "mimetype": "text/x-python",
   "name": "python",
   "nbconvert_exporter": "python",
   "pygments_lexer": "ipython3",
   "version": "3.6.8"
  }
 },
 "nbformat": 4,
 "nbformat_minor": 2
}
