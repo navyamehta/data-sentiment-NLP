{
 "cells": [
  {
   "cell_type": "markdown",
   "metadata": {},
   "source": [
    "This notebook attempts to fit traditional NLP techniques - SVD, Trigrams etc. - to the economic data newspaper set to draw signal for the relevance dataset. To build robust trigram models, smoothening and discounting are used on the maximum likelihood statistics drawn to balance probability estimates for binary classification. The SVD attempts simple clustering mechanisms to find underlying similarities between article snippets."
   ]
  },
  {
   "cell_type": "code",
   "execution_count": 1,
   "metadata": {},
   "outputs": [],
   "source": [
    "import pandas as pd\n",
    "import numpy as np\n",
    "import scipy as sp\n",
    "import nltk\n",
    "import re\n",
    "import os\n",
    "import gc\n",
    "import pickle\n",
    "import json\n",
    "import seaborn as sns\n",
    "import matplotlib.pyplot as plt\n",
    "import sklearn.metrics"
   ]
  },
  {
   "cell_type": "code",
   "execution_count": 2,
   "metadata": {},
   "outputs": [],
   "source": [
    "trainX = pickle.load(open('./data/relevance_trainX.pkl', \"rb\"))\n",
    "trainY = pickle.load(open('./data/relevance_trainY.pkl', \"rb\"))\n",
    "testX = pickle.load(open('./data/relevance_testX.pkl', \"rb\"))\n",
    "testY = pickle.load(open('./data/relevance_testY.pkl', \"rb\"))"
   ]
  },
  {
   "cell_type": "markdown",
   "metadata": {},
   "source": [
    "<h2> Supervised Learning - Trigram Model"
   ]
  },
  {
   "cell_type": "markdown",
   "metadata": {},
   "source": [
    "Create two trigram models $ M_{+} $ and $ M_{-} $ such that every sentence $ S_{i} $, the probability of relevance is given by a softmax activation, namely $\\frac{P_{M+}(S_{i})}{\\sum P(S_{i})} $"
   ]
  },
  {
   "cell_type": "code",
   "execution_count": 3,
   "metadata": {},
   "outputs": [],
   "source": [
    "#Token cleaning: Stemming, <START> and <END>, <NUM> tag\n",
    "def num_tag(num):\n",
    "    digits = np.array(['1','2','3','4','5','6','7','8','9','0'])\n",
    "    return sum(np.vectorize(lambda s: s in num)(digits))>0\n",
    "def cleaner_vocab(s):\n",
    "    if s[0]==\"\\'\" and s[-1]==\"\\'\": s = s[1:-1]\n",
    "    if \".\" in s and len(s)!=1: s = s.replace(\".\",\"\")\n",
    "    return s\n",
    "def trigram_text(s):\n",
    "    s = \"<start> <start> \"+s+\" <end>\"\n",
    "    s = np.vectorize(lambda s: \"<num>\" if num_tag(s) else s)(s.split())\n",
    "    return np.vectorize(lambda s: cleaner_vocab(s))(s)\n",
    "trainX = trainX.apply(lambda txt: trigram_text(txt))"
   ]
  },
  {
   "cell_type": "code",
   "execution_count": 5,
   "metadata": {},
   "outputs": [
    {
     "name": "stdout",
     "output_type": "stream",
     "text": [
      "(12.64, 48.9]      689\n",
      "(48.9, 84.8]      2032\n",
      "(84.8, 120.7]      803\n",
      "(120.7, 156.6]     143\n",
      "(156.6, 192.5]      34\n",
      "(192.5, 228.4]      11\n",
      "(228.4, 264.3]       4\n",
      "(264.3, 300.2]       3\n",
      "(300.2, 336.1]       0\n",
      "(336.1, 372.0]       1\n",
      "Name: text, dtype: int64\n"
     ]
    }
   ],
   "source": [
    "#Limit the length of individual news articles since a trigram based probability is likely\n",
    "#to get smaller with more words, and approaching close to the minimum float Python can\n",
    "#represent, reducing to 0\n",
    "print(trainX.apply(len).value_counts(bins=10).sort_index())\n",
    "trainX = trainX.apply(lambda s: s[:150])"
   ]
  },
  {
   "cell_type": "code",
   "execution_count": 6,
   "metadata": {},
   "outputs": [],
   "source": [
    "postrainX = trainX[trainY==1].copy().reset_index(drop=True)\n",
    "negtrainX = trainX[trainY==0].copy().reset_index(drop=True)"
   ]
  },
  {
   "cell_type": "code",
   "execution_count": 7,
   "metadata": {},
   "outputs": [],
   "source": [
    "#Define a Trigram Model\n",
    "class LangModel():\n",
    "    def __init__(self):\n",
    "        self.unigram, self.bigram, self.trigram = {}, {}, {}\n",
    "    \n",
    "    def add_unigram(self, word3):\n",
    "        self.unigram[word3] = 1 if self.unigram.get(word3, None) is None else self.unigram[word3]+1\n",
    "    \n",
    "    def add_bigram(self, word2, word3):\n",
    "        if self.bigram.get(word2, None) is None:\n",
    "            self.bigram[word2] = {}\n",
    "            self.bigram[word2][word3] = 1\n",
    "        elif self.bigram.get(word2, None).get(word3, None) is None:\n",
    "            self.bigram[word2][word3] = 1\n",
    "        else:\n",
    "            self.bigram[word2][word3]+=1\n",
    "    \n",
    "    def add_trigram(self, word1, word2, word3):\n",
    "        if self.trigram.get(word1, None) is None:\n",
    "            self.trigram[word1] = {}\n",
    "            self.trigram[word1][word2] = {}\n",
    "            self.trigram[word1][word2][word3] = 1\n",
    "        elif self.trigram[word1].get(word2, None) is None:\n",
    "            self.trigram[word1][word2] = {}\n",
    "            self.trigram[word1][word2][word3] = 1\n",
    "        elif self.trigram[word1][word2].get(word3, None) is None:\n",
    "            self.trigram[word1][word2][word3]  = 1\n",
    "        else:\n",
    "            self.trigram[word1][word2][word3] += 1\n",
    "\n",
    "    def inc_count(self, word1, word2, word3):\n",
    "        self.add_unigram(word3)\n",
    "        self.add_bigram(word2, word3)\n",
    "        self.add_trigram(word1, word2, word3)   \n",
    "        \n",
    "    def counts(self, arr):\n",
    "        if len(arr)>3: return\n",
    "        if len(arr)==1:\n",
    "            return self.unigram.get(arr[0], 0)\n",
    "        if len(arr)==2:\n",
    "            return 0 if self.bigram.get(arr[0], None) is None else self.bigram[arr[0]].get(arr[1], 0)\n",
    "        if len(arr)==3:\n",
    "            if (self.trigram.get(arr[0],None) is None) or (self.trigram[arr[0]].get(arr[1],None) is None):\n",
    "                return 0\n",
    "            else:\n",
    "                return self.trigram[arr[0]][arr[1]].get(arr[2], 0)        "
   ]
  },
  {
   "cell_type": "code",
   "execution_count": 8,
   "metadata": {},
   "outputs": [],
   "source": [
    "#Creating unigram, bigram and trigram probability dictionaries\n",
    "#Define word counts\n",
    "posModel, negModel = LangModel(), LangModel()\n",
    "for sent in postrainX:\n",
    "    posModel.add_bigram(\"<start>\", \"<start>\")\n",
    "    for i in range(2, len(sent)):\n",
    "        posModel.inc_count(sent[i-2], sent[i-1], sent[i])\n",
    "for sent in negtrainX:\n",
    "    posModel.add_bigram(\"<start>\", \"<start>\")\n",
    "    for i in range(2, len(sent)):\n",
    "        negModel.inc_count(sent[i-2], sent[i-1], sent[i])"
   ]
  },
  {
   "cell_type": "markdown",
   "metadata": {},
   "source": [
    "<p> Application of Linear Interpolation on Maximum Likelihood Estimates: <p>\n",
    "$ P(w|u,v) = \\lambda_{1} * Q_{ML}(w|u,v) + \\lambda_{2} * Q_{ML}(w|v) + (1 - \\lambda_{1} - \\lambda_{2}) * Q_{ML}(w) $\n",
    "<br\\><br\\>\n",
    "where the  $ Q_{ML} $ refers to traditional maximum likelihood estimates (unigrams, bigrams, and trigrams), and\n",
    "<br\\>\n",
    "$ \\lambda_{1} = \\dfrac {c(u,v)}{c(u,v)+\\gamma} $, \n",
    "$ \\lambda_{2} = (1 - \\lambda_{1}) * \\dfrac {c(v)}{c(v)+\\gamma} $\n",
    "<br\\>\n",
    "where $ \\gamma $ is optimized by minimizing perplexity or minimizing log loss on the training set."
   ]
  },
  {
   "cell_type": "code",
   "execution_count": 15,
   "metadata": {},
   "outputs": [],
   "source": [
    "#define linear interpolation\n",
    "#Use 1e-3 tolerance parameter for smoothening unigram probabilities\n",
    "def probability(model, sent, gamma):\n",
    "    prob = 1\n",
    "    for i in range(2, len(sent)):\n",
    "        lambda1, lambda2, trigramval, bigramval = 0, 0, 0, 0\n",
    "        if (model.counts([sent[i-2], sent[i-1]]) + gamma)!=0:\n",
    "            lambda1 = model.counts([sent[i-2], sent[i-1]]) / (model.counts([sent[i-2], sent[i-1]]) + gamma)\n",
    "        if (model.counts([sent[i-1]]) + gamma)!=0:\n",
    "            lambda2 = (1 - lambda1) * model.counts([sent[i-1]]) / (model.counts([sent[i-1]]) + gamma)\n",
    "        if model.counts([sent[i-2], sent[i-1]])!=0:\n",
    "            trigramval = model.counts([sent[i-2], sent[i-1], sent[i]]) / model.counts([sent[i-2], sent[i-1]])\n",
    "        if model.counts([sent[i-1]])!=0:\n",
    "            bigramval = model.counts([sent[i-1], sent[i]]) / model.counts([sent[i-1]])\n",
    "        unigramval = model.counts([sent[i]]) / sum(model.unigram.values()) if model.counts([sent[i]])!=0 else 1e-3\n",
    "        prob *= lambda1*trigramval + lambda2*bigramval + (1-lambda1-lambda2)*unigramval\n",
    "        #Python floating point limitations do not permit smaller calculations\n",
    "        #During our tests, only 1-2 sentences activate this if-condition\n",
    "        if prob==0: return 1e-323\n",
    "    return prob"
   ]
  },
  {
   "cell_type": "markdown",
   "metadata": {},
   "source": [
    "<p>Gradient Descent for Optimal Gamma:</p>\n",
    "<br\\>\n",
    "To optimize the value of $ \\gamma $ for linear interpolation, we attempt gradient descent to minimize perplexity, which is defined as $ PX = 2^{-l} $ where $ l = \\frac{1}{M} \\sum log_{2}(P(S_{i})) $ with M being the vocabulary size. Above, $ P(S_{i}) = \\prod P(w|u,v) $ for every trigram sequence $ (u,v,w) $ in $ S_{i} $, as defined earlier. We run gradient descent with a $ 10^{-13} $ learning rate and 150 iterations, with a gamma originally drawn from a uniform distribution.\n",
    "<br\\><br\\>\n",
    "Let $ \\gamma $ be initialized. For iterations e = 1,..., 150:\n",
    "<br\\>\n",
    "    $ \\gamma = \\gamma + 10^{-13} \\times PX \\times \\frac{1}{M}\\sum \\frac{\\frac{d}{d\\gamma}(P(S_{i}))}{P(S_{i})} $\n",
    "    "
   ]
  },
  {
   "cell_type": "code",
   "execution_count": 10,
   "metadata": {},
   "outputs": [],
   "source": [
    "#We approximate probability gradient using first principles of differentiation\n",
    "#Continue to use the tolerance level of 1e-3 as extent of change\n",
    "def grad(model, sent, gamma):\n",
    "    return (probability(model, sent, gamma+1e-3) - probability(model, sent, gamma))/1e-3\n",
    "def descent(model, sents):\n",
    "    np.random.seed(1)\n",
    "    gamma = np.random.uniform()*10\n",
    "    learning_rate = 1e-13\n",
    "    gammatime = pd.Series(index=np.arange(150))\n",
    "    for i in range(150):\n",
    "        gammatime[i] = gamma\n",
    "        probarr = np.vectorize(lambda s: probability(model,sents[s],gamma))(np.arange(len(sents)))\n",
    "        gradarr = np.vectorize(lambda s: grad(model,sents[s],gamma))(np.arange(len(sents)))\n",
    "        M = len(np.unique([word for sent in sents.values for word in sent]))\n",
    "        perplex = 2**(-1/M * np.sum(np.log2(probarr)))\n",
    "        gamma += learning_rate * perplex * 1/M * np.sum(gradarr/probarr)\n",
    "        if i%10==0: print(\"Progress Update: Iteration \"+str(i))\n",
    "    plt.figure(figsize=(10,10))\n",
    "    gammatime.plot()\n",
    "    plt.show()\n",
    "    return gamma"
   ]
  },
  {
   "cell_type": "code",
   "execution_count": 22,
   "metadata": {
    "scrolled": false
   },
   "outputs": [
    {
     "name": "stdout",
     "output_type": "stream",
     "text": [
      "Progress Update: Iteration 0\n",
      "Progress Update: Iteration 10\n",
      "Progress Update: Iteration 20\n",
      "Progress Update: Iteration 30\n",
      "Progress Update: Iteration 40\n",
      "Progress Update: Iteration 50\n",
      "Progress Update: Iteration 60\n",
      "Progress Update: Iteration 70\n",
      "Progress Update: Iteration 80\n",
      "Progress Update: Iteration 90\n",
      "Progress Update: Iteration 100\n",
      "Progress Update: Iteration 110\n",
      "Progress Update: Iteration 120\n",
      "Progress Update: Iteration 130\n",
      "Progress Update: Iteration 140\n"
     ]
    },
    {
     "data": {
      "image/png": "[encoded data removed]",
      "text/plain": [
       "<Figure size 720x720 with 1 Axes>"
      ]
     },
     "metadata": {
      "needs_background": "light"
     },
     "output_type": "display_data"
    }
   ],
   "source": [
    "#choosing singular smoothing parameter through perplexity maximization with gradient descent\n",
    "posgamma = descent(posModel, postrainX)"
   ]
  },
  {
   "cell_type": "code",
   "execution_count": 23,
   "metadata": {},
   "outputs": [
    {
     "name": "stdout",
     "output_type": "stream",
     "text": [
      "Progress Update: Iteration 0\n",
      "Progress Update: Iteration 10\n",
      "Progress Update: Iteration 20\n",
      "Progress Update: Iteration 30\n",
      "Progress Update: Iteration 40\n",
      "Progress Update: Iteration 50\n",
      "Progress Update: Iteration 60\n",
      "Progress Update: Iteration 70\n",
      "Progress Update: Iteration 80\n",
      "Progress Update: Iteration 90\n",
      "Progress Update: Iteration 100\n",
      "Progress Update: Iteration 110\n",
      "Progress Update: Iteration 120\n",
      "Progress Update: Iteration 130\n",
      "Progress Update: Iteration 140\n"
     ]
    },
    {
     "data": {
      "image/png": "[encoded data removed]",
      "text/plain": [
       "<Figure size 720x720 with 1 Axes>"
      ]
     },
     "metadata": {
      "needs_background": "light"
     },
     "output_type": "display_data"
    }
   ],
   "source": [
    "neggamma = descent(negModel, negtrainX)"
   ]
  },
  {
   "cell_type": "code",
   "execution_count": 24,
   "metadata": {},
   "outputs": [],
   "source": [
    "testX = testX.apply(lambda txt: trigram_text(txt))\n",
    "testX = testX.apply(lambda s: s[:150])"
   ]
  },
  {
   "cell_type": "code",
   "execution_count": 28,
   "metadata": {},
   "outputs": [],
   "source": [
    "#Apply softmax activation to generate train and test probabilities\n",
    "def predict_proba(X):\n",
    "    posprob = X.apply(lambda s: probability(posModel, s, posgamma))\n",
    "    negprob = X.apply(lambda s: probability(negModel, s, neggamma))\n",
    "    retval = posprob/(posprob+negprob)\n",
    "    return np.concatenate([(1-retval).values.reshape(-1,1), retval.values.reshape(-1,1)], axis=1)\n",
    "trainYpred = predict_proba(trainX)\n",
    "testYpred = predict_proba(testX)"
   ]
  },
  {
   "cell_type": "code",
   "execution_count": 34,
   "metadata": {},
   "outputs": [
    {
     "data": {
      "image/png": "[encoded data removed]",
      "text/plain": [
       "<Figure size 864x432 with 2 Axes>"
      ]
     },
     "metadata": {
      "needs_background": "light"
     },
     "output_type": "display_data"
    }
   ],
   "source": [
    "#AUC-ROC and Precision-Recall\n",
    "tpr2, fpr2, _ = sklearn.metrics.roc_curve(testY, testYpred[:,1])\n",
    "prec2, rec2, _ = sklearn.metrics.precision_recall_curve(testY, testYpred[:,1])\n",
    "plt.figure(figsize=(12,6))\n",
    "plt.subplot(1,2,1)\n",
    "plt.plot(tpr2, fpr2)\n",
    "plt.subplot(1,2,2)\n",
    "plt.plot(rec2, prec2)\n",
    "plt.show()"
   ]
  },
  {
   "cell_type": "code",
   "execution_count": 52,
   "metadata": {},
   "outputs": [
    {
     "data": {
      "text/plain": [
       "array([[0.65294118, 0.34705882],\n",
       "       [0.34520548, 0.65479452]])"
      ]
     },
     "execution_count": 52,
     "metadata": {},
     "output_type": "execute_result"
    }
   ],
   "source": [
    "#Confusion Matrix\n",
    "k = sklearn.metrics.confusion_matrix(testY, np.vectorize(lambda s: 1 if s>0.5 else 0)(testYpred[:,1]))\n",
    "sumv = np.vstack(np.sum(k, axis=1))\n",
    "k/np.concatenate([sumv, sumv], axis=1)"
   ]
  },
  {
   "cell_type": "code",
   "execution_count": 54,
   "metadata": {},
   "outputs": [
    {
     "name": "stdout",
     "output_type": "stream",
     "text": [
      "              precision    recall  f1-score   support\n",
      "\n",
      "           0       0.57      0.65      0.61       510\n",
      "           1       0.73      0.65      0.69       730\n",
      "\n",
      "    accuracy                           0.65      1240\n",
      "   macro avg       0.65      0.65      0.65      1240\n",
      "weighted avg       0.66      0.65      0.66      1240\n",
      "\n"
     ]
    }
   ],
   "source": [
    "print(sklearn.metrics.classification_report(testY, np.vectorize(lambda s: 1 if s>0.5 else 0)(testYpred[:,1])))"
   ]
  },
  {
   "cell_type": "markdown",
   "metadata": {},
   "source": [
    "<h2> Semi-Supervised Learning - SVD Algorithm"
   ]
  },
  {
   "cell_type": "code",
   "execution_count": null,
   "metadata": {},
   "outputs": [],
   "source": []
  }
 ],
 "metadata": {
  "kernelspec": {
   "display_name": "Python 3",
   "language": "python",
   "name": "python3"
  },
  "language_info": {
   "codemirror_mode": {
    "name": "ipython",
    "version": 3
   },
   "file_extension": ".py",
   "mimetype": "text/x-python",
   "name": "python",
   "nbconvert_exporter": "python",
   "pygments_lexer": "ipython3",
   "version": "3.6.8"
  }
 },
 "nbformat": 4,
 "nbformat_minor": 2
}
